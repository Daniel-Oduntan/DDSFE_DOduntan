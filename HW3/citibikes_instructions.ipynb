{
  "nbformat": 4,
  "nbformat_minor": 0,
  "metadata": {
    "anaconda-cloud": {},
    "kernelspec": {
      "display_name": "Python 3",
      "name": "python3"
    },
    "language_info": {
      "name": "python"
    },
    "colab": {
      "provenance": [],
      "toc_visible": true,
      "include_colab_link": true
    }
  },
  "cells": [
    {
      "cell_type": "markdown",
      "metadata": {
        "id": "view-in-github",
        "colab_type": "text"
      },
      "source": [
        "<a href=\"https://colab.research.google.com/github/Daniel-Oduntan/FDSfE_DOduntan/blob/main/HW3/citibikes_instructions.ipynb\" target=\"_parent\"><img src=\"https://colab.research.google.com/assets/colab-badge.svg\" alt=\"Open In Colab\"/></a>"
      ]
    },
    {
      "cell_type": "markdown",
      "metadata": {
        "id": "4aESq4aYc3Tw"
      },
      "source": [
        "# Written by Federica B. Bianco @fedhere\n",
        "# for UDel FDSfE 2022\n",
        "\n",
        "\n",
        "Citibikes is the shared bike services for NYC and they historically have done a great job at making their data public (while respecting people's privacy of course! well... almost always... https://www.wsj.com/articles/SB10001424127887323829104578624263439561672)\n",
        "\n",
        "-  The \"idea\" is that citi bikes, which are farily bulky bikes, may be designed in such a way that they are more comfortable for larger people, and therefore, on average, for men.  \n",
        "\n",
        "-  If the bikes are uncomfortable, the users will not use them for long trips. So to test that you can measure the trip duration for customers that are registered as male and customers that are registered as female and see (1) if they  have the same mean, and (2) if they are \"the same\" distribution (more precisely you will meausre if they come from the \"same parent distribution\"). \n",
        "\n",
        "-  Choose the significance threshold\n",
        "\n",
        "-  Wrangle the data so that it is ready for your analysis.\n",
        "\n",
        "-  Explore the data statistical properties (mean, standard deviation...)\n",
        "\n",
        "-  Clearly state they Null and Alternate hypothesis for the first question\n",
        "\n",
        "-  Answer the first question with a t-test\n",
        "\n",
        "-  Clearly state they Null and Alternate hypothesis for the second question\n",
        "\n",
        "-  Answer the second question with a ks_2sample test\n",
        "\n",
        "\n",
        "-  Extra Credit: split the sample in week-days and weekends and redo the analysis for the week-days and weekend cases separately"
      ]
    },
    {
      "cell_type": "code",
      "metadata": {
        "scrolled": true,
        "id": "LEcE6IScc3Tx"
      },
      "source": [
        "import matplotlib.pyplot as plt\n",
        "import seaborn as sns\n",
        "import pandas as pd\n",
        "import numpy as np\n",
        "from scipy import stats"
      ],
      "execution_count": 1,
      "outputs": []
    },
    {
      "cell_type": "markdown",
      "metadata": {
        "id": "V-bKj0Xjc3T5"
      },
      "source": [
        "# IDEA:\n",
        " Citibike usage would be different by gender if the bikes are more comfrotable for people who are taller and with larger frames.\n",
        "\n",
        "Remember: \n",
        "### NULL HYPOTHESIS _H0_:\n",
        "You want to falsify it so make it the opposite of your idea\n",
        "\n",
        "\n",
        "### ALTERNATIVE HYPOTHESIS _HA_:\n",
        "This shoudl be the complement of the NULL, including everything that the NULL does not\n",
        "\n",
        "\n"
      ]
    },
    {
      "cell_type": "code",
      "source": [
        "pvalue = ..."
      ],
      "metadata": {
        "id": "O-ZZoG1GeqX_"
      },
      "execution_count": null,
      "outputs": []
    },
    {
      "cell_type": "markdown",
      "metadata": {
        "id": "I-bfLntac3T7"
      },
      "source": [
        "# Data gathering\n",
        "Get a single month of data:  reading data from citibike csv file from May 2019\n",
        "\n",
        "\n",
        "\n",
        "read a csv file with pandas so that the content is stored in a \"DataFrame\". "
      ]
    },
    {
      "cell_type": "code",
      "metadata": {
        "id": "TLDKMJbyc3UL",
        "colab": {
          "base_uri": "https://localhost:8080/",
          "height": 835
        },
        "outputId": "fedda830-be57-424d-8596-2157d8becb4d"
      },
      "source": [
        "datestring = '201905'\n",
        "cbmay19 = pd.read_csv(\"https://s3.amazonaws.com/tripdata/\"+ datestring + \"-citibike-tripdata.csv.zip\")\n",
        "cbmay19"
      ],
      "execution_count": 2,
      "outputs": [
        {
          "output_type": "execute_result",
          "data": {
            "text/plain": [
              "         tripduration                 starttime                  stoptime  \\\n",
              "0                 139  2019-05-01 00:00:01.9010  2019-05-01 00:02:21.5170   \n",
              "1                 754  2019-05-01 00:00:03.0210  2019-05-01 00:12:37.6920   \n",
              "2                2308  2019-05-01 00:00:04.6270  2019-05-01 00:38:33.1710   \n",
              "3                 143  2019-05-01 00:00:19.3340  2019-05-01 00:02:42.5200   \n",
              "4                 138  2019-05-01 00:00:22.1840  2019-05-01 00:02:40.6480   \n",
              "...               ...                       ...                       ...   \n",
              "1924558           304  2019-05-31 23:59:45.5760  2019-06-01 00:04:50.4620   \n",
              "1924559           324  2019-05-31 23:59:46.4650  2019-06-01 00:05:11.1630   \n",
              "1924560          1926  2019-05-31 23:59:51.5060  2019-06-01 00:31:58.3920   \n",
              "1924561          2047  2019-05-31 23:59:52.4170  2019-06-01 00:34:00.1970   \n",
              "1924562           964  2019-05-31 23:59:55.5500  2019-06-01 00:15:59.8680   \n",
              "\n",
              "         start station id         start station name  start station latitude  \\\n",
              "0                     447            8 Ave & W 52 St               40.763707   \n",
              "1                    3258           W 27 St & 10 Ave               40.750182   \n",
              "2                    3093       N 6 St & Bedford Ave               40.717452   \n",
              "3                    3486  Schermerhorn St & Bond St               40.688417   \n",
              "4                     388           W 26 St & 10 Ave               40.749718   \n",
              "...                   ...                        ...                     ...   \n",
              "1924558              3175    W 70 St & Amsterdam Ave               40.777480   \n",
              "1924559              2003            1 Ave & E 18 St               40.733812   \n",
              "1924560               146       Hudson St & Reade St               40.716250   \n",
              "1924561              3658            W 18 St & 9 Ave               40.743534   \n",
              "1924562               285         Broadway & E 14 St               40.734546   \n",
              "\n",
              "         start station longitude  end station id            end station name  \\\n",
              "0                     -73.985162             423             W 54 St & 9 Ave   \n",
              "1                     -74.002184            3255             8 Ave & W 31 St   \n",
              "2                     -73.958509            3676  Van Brunt St & Van Dyke St   \n",
              "3                     -73.984517            3412      Pacific St & Nevins St   \n",
              "4                     -74.002950             494             W 26 St & 8 Ave   \n",
              "...                          ...             ...                         ...   \n",
              "1924558               -73.982886             423             W 54 St & 9 Ave   \n",
              "1924559               -73.980544             536             1 Ave & E 30 St   \n",
              "1924560               -74.009106             422            W 59 St & 10 Ave   \n",
              "1924561               -74.003676            2008       Little West St & 1 Pl   \n",
              "1924562               -73.990741            3656           E 2 St & Avenue A   \n",
              "\n",
              "         end station latitude  end station longitude  bikeid    usertype  \\\n",
              "0                   40.765849             -73.986905   31170  Subscriber   \n",
              "1                   40.750585             -73.994685   25560    Customer   \n",
              "2                   40.675833             -74.014726   33369  Subscriber   \n",
              "3                   40.685376             -73.983021   32041  Subscriber   \n",
              "4                   40.747348             -73.997236   35237  Subscriber   \n",
              "...                       ...                    ...     ...         ...   \n",
              "1924558             40.765849             -73.986905   32285  Subscriber   \n",
              "1924559             40.741444             -73.975361   33874  Subscriber   \n",
              "1924560             40.770513             -73.988038   33395  Subscriber   \n",
              "1924561             40.705693             -74.016777   27624  Subscriber   \n",
              "1924562             40.723077             -73.985836   32565  Subscriber   \n",
              "\n",
              "         birth year  gender  \n",
              "0              1983       1  \n",
              "1              1969       0  \n",
              "2              1978       1  \n",
              "3              1997       1  \n",
              "4              1967       1  \n",
              "...             ...     ...  \n",
              "1924558        1987       2  \n",
              "1924559        1994       2  \n",
              "1924560        1985       1  \n",
              "1924561        1987       0  \n",
              "1924562        1992       2  \n",
              "\n",
              "[1924563 rows x 15 columns]"
            ],
            "text/html": [
              "\n",
              "  <div id=\"df-29e7db2b-1cb4-4a4b-8e20-804247ad7d77\">\n",
              "    <div class=\"colab-df-container\">\n",
              "      <div>\n",
              "<style scoped>\n",
              "    .dataframe tbody tr th:only-of-type {\n",
              "        vertical-align: middle;\n",
              "    }\n",
              "\n",
              "    .dataframe tbody tr th {\n",
              "        vertical-align: top;\n",
              "    }\n",
              "\n",
              "    .dataframe thead th {\n",
              "        text-align: right;\n",
              "    }\n",
              "</style>\n",
              "<table border=\"1\" class=\"dataframe\">\n",
              "  <thead>\n",
              "    <tr style=\"text-align: right;\">\n",
              "      <th></th>\n",
              "      <th>tripduration</th>\n",
              "      <th>starttime</th>\n",
              "      <th>stoptime</th>\n",
              "      <th>start station id</th>\n",
              "      <th>start station name</th>\n",
              "      <th>start station latitude</th>\n",
              "      <th>start station longitude</th>\n",
              "      <th>end station id</th>\n",
              "      <th>end station name</th>\n",
              "      <th>end station latitude</th>\n",
              "      <th>end station longitude</th>\n",
              "      <th>bikeid</th>\n",
              "      <th>usertype</th>\n",
              "      <th>birth year</th>\n",
              "      <th>gender</th>\n",
              "    </tr>\n",
              "  </thead>\n",
              "  <tbody>\n",
              "    <tr>\n",
              "      <th>0</th>\n",
              "      <td>139</td>\n",
              "      <td>2019-05-01 00:00:01.9010</td>\n",
              "      <td>2019-05-01 00:02:21.5170</td>\n",
              "      <td>447</td>\n",
              "      <td>8 Ave &amp; W 52 St</td>\n",
              "      <td>40.763707</td>\n",
              "      <td>-73.985162</td>\n",
              "      <td>423</td>\n",
              "      <td>W 54 St &amp; 9 Ave</td>\n",
              "      <td>40.765849</td>\n",
              "      <td>-73.986905</td>\n",
              "      <td>31170</td>\n",
              "      <td>Subscriber</td>\n",
              "      <td>1983</td>\n",
              "      <td>1</td>\n",
              "    </tr>\n",
              "    <tr>\n",
              "      <th>1</th>\n",
              "      <td>754</td>\n",
              "      <td>2019-05-01 00:00:03.0210</td>\n",
              "      <td>2019-05-01 00:12:37.6920</td>\n",
              "      <td>3258</td>\n",
              "      <td>W 27 St &amp; 10 Ave</td>\n",
              "      <td>40.750182</td>\n",
              "      <td>-74.002184</td>\n",
              "      <td>3255</td>\n",
              "      <td>8 Ave &amp; W 31 St</td>\n",
              "      <td>40.750585</td>\n",
              "      <td>-73.994685</td>\n",
              "      <td>25560</td>\n",
              "      <td>Customer</td>\n",
              "      <td>1969</td>\n",
              "      <td>0</td>\n",
              "    </tr>\n",
              "    <tr>\n",
              "      <th>2</th>\n",
              "      <td>2308</td>\n",
              "      <td>2019-05-01 00:00:04.6270</td>\n",
              "      <td>2019-05-01 00:38:33.1710</td>\n",
              "      <td>3093</td>\n",
              "      <td>N 6 St &amp; Bedford Ave</td>\n",
              "      <td>40.717452</td>\n",
              "      <td>-73.958509</td>\n",
              "      <td>3676</td>\n",
              "      <td>Van Brunt St &amp; Van Dyke St</td>\n",
              "      <td>40.675833</td>\n",
              "      <td>-74.014726</td>\n",
              "      <td>33369</td>\n",
              "      <td>Subscriber</td>\n",
              "      <td>1978</td>\n",
              "      <td>1</td>\n",
              "    </tr>\n",
              "    <tr>\n",
              "      <th>3</th>\n",
              "      <td>143</td>\n",
              "      <td>2019-05-01 00:00:19.3340</td>\n",
              "      <td>2019-05-01 00:02:42.5200</td>\n",
              "      <td>3486</td>\n",
              "      <td>Schermerhorn St &amp; Bond St</td>\n",
              "      <td>40.688417</td>\n",
              "      <td>-73.984517</td>\n",
              "      <td>3412</td>\n",
              "      <td>Pacific St &amp; Nevins St</td>\n",
              "      <td>40.685376</td>\n",
              "      <td>-73.983021</td>\n",
              "      <td>32041</td>\n",
              "      <td>Subscriber</td>\n",
              "      <td>1997</td>\n",
              "      <td>1</td>\n",
              "    </tr>\n",
              "    <tr>\n",
              "      <th>4</th>\n",
              "      <td>138</td>\n",
              "      <td>2019-05-01 00:00:22.1840</td>\n",
              "      <td>2019-05-01 00:02:40.6480</td>\n",
              "      <td>388</td>\n",
              "      <td>W 26 St &amp; 10 Ave</td>\n",
              "      <td>40.749718</td>\n",
              "      <td>-74.002950</td>\n",
              "      <td>494</td>\n",
              "      <td>W 26 St &amp; 8 Ave</td>\n",
              "      <td>40.747348</td>\n",
              "      <td>-73.997236</td>\n",
              "      <td>35237</td>\n",
              "      <td>Subscriber</td>\n",
              "      <td>1967</td>\n",
              "      <td>1</td>\n",
              "    </tr>\n",
              "    <tr>\n",
              "      <th>...</th>\n",
              "      <td>...</td>\n",
              "      <td>...</td>\n",
              "      <td>...</td>\n",
              "      <td>...</td>\n",
              "      <td>...</td>\n",
              "      <td>...</td>\n",
              "      <td>...</td>\n",
              "      <td>...</td>\n",
              "      <td>...</td>\n",
              "      <td>...</td>\n",
              "      <td>...</td>\n",
              "      <td>...</td>\n",
              "      <td>...</td>\n",
              "      <td>...</td>\n",
              "      <td>...</td>\n",
              "    </tr>\n",
              "    <tr>\n",
              "      <th>1924558</th>\n",
              "      <td>304</td>\n",
              "      <td>2019-05-31 23:59:45.5760</td>\n",
              "      <td>2019-06-01 00:04:50.4620</td>\n",
              "      <td>3175</td>\n",
              "      <td>W 70 St &amp; Amsterdam Ave</td>\n",
              "      <td>40.777480</td>\n",
              "      <td>-73.982886</td>\n",
              "      <td>423</td>\n",
              "      <td>W 54 St &amp; 9 Ave</td>\n",
              "      <td>40.765849</td>\n",
              "      <td>-73.986905</td>\n",
              "      <td>32285</td>\n",
              "      <td>Subscriber</td>\n",
              "      <td>1987</td>\n",
              "      <td>2</td>\n",
              "    </tr>\n",
              "    <tr>\n",
              "      <th>1924559</th>\n",
              "      <td>324</td>\n",
              "      <td>2019-05-31 23:59:46.4650</td>\n",
              "      <td>2019-06-01 00:05:11.1630</td>\n",
              "      <td>2003</td>\n",
              "      <td>1 Ave &amp; E 18 St</td>\n",
              "      <td>40.733812</td>\n",
              "      <td>-73.980544</td>\n",
              "      <td>536</td>\n",
              "      <td>1 Ave &amp; E 30 St</td>\n",
              "      <td>40.741444</td>\n",
              "      <td>-73.975361</td>\n",
              "      <td>33874</td>\n",
              "      <td>Subscriber</td>\n",
              "      <td>1994</td>\n",
              "      <td>2</td>\n",
              "    </tr>\n",
              "    <tr>\n",
              "      <th>1924560</th>\n",
              "      <td>1926</td>\n",
              "      <td>2019-05-31 23:59:51.5060</td>\n",
              "      <td>2019-06-01 00:31:58.3920</td>\n",
              "      <td>146</td>\n",
              "      <td>Hudson St &amp; Reade St</td>\n",
              "      <td>40.716250</td>\n",
              "      <td>-74.009106</td>\n",
              "      <td>422</td>\n",
              "      <td>W 59 St &amp; 10 Ave</td>\n",
              "      <td>40.770513</td>\n",
              "      <td>-73.988038</td>\n",
              "      <td>33395</td>\n",
              "      <td>Subscriber</td>\n",
              "      <td>1985</td>\n",
              "      <td>1</td>\n",
              "    </tr>\n",
              "    <tr>\n",
              "      <th>1924561</th>\n",
              "      <td>2047</td>\n",
              "      <td>2019-05-31 23:59:52.4170</td>\n",
              "      <td>2019-06-01 00:34:00.1970</td>\n",
              "      <td>3658</td>\n",
              "      <td>W 18 St &amp; 9 Ave</td>\n",
              "      <td>40.743534</td>\n",
              "      <td>-74.003676</td>\n",
              "      <td>2008</td>\n",
              "      <td>Little West St &amp; 1 Pl</td>\n",
              "      <td>40.705693</td>\n",
              "      <td>-74.016777</td>\n",
              "      <td>27624</td>\n",
              "      <td>Subscriber</td>\n",
              "      <td>1987</td>\n",
              "      <td>0</td>\n",
              "    </tr>\n",
              "    <tr>\n",
              "      <th>1924562</th>\n",
              "      <td>964</td>\n",
              "      <td>2019-05-31 23:59:55.5500</td>\n",
              "      <td>2019-06-01 00:15:59.8680</td>\n",
              "      <td>285</td>\n",
              "      <td>Broadway &amp; E 14 St</td>\n",
              "      <td>40.734546</td>\n",
              "      <td>-73.990741</td>\n",
              "      <td>3656</td>\n",
              "      <td>E 2 St &amp; Avenue A</td>\n",
              "      <td>40.723077</td>\n",
              "      <td>-73.985836</td>\n",
              "      <td>32565</td>\n",
              "      <td>Subscriber</td>\n",
              "      <td>1992</td>\n",
              "      <td>2</td>\n",
              "    </tr>\n",
              "  </tbody>\n",
              "</table>\n",
              "<p>1924563 rows × 15 columns</p>\n",
              "</div>\n",
              "      <button class=\"colab-df-convert\" onclick=\"convertToInteractive('df-29e7db2b-1cb4-4a4b-8e20-804247ad7d77')\"\n",
              "              title=\"Convert this dataframe to an interactive table.\"\n",
              "              style=\"display:none;\">\n",
              "        \n",
              "  <svg xmlns=\"http://www.w3.org/2000/svg\" height=\"24px\"viewBox=\"0 0 24 24\"\n",
              "       width=\"24px\">\n",
              "    <path d=\"M0 0h24v24H0V0z\" fill=\"none\"/>\n",
              "    <path d=\"M18.56 5.44l.94 2.06.94-2.06 2.06-.94-2.06-.94-.94-2.06-.94 2.06-2.06.94zm-11 1L8.5 8.5l.94-2.06 2.06-.94-2.06-.94L8.5 2.5l-.94 2.06-2.06.94zm10 10l.94 2.06.94-2.06 2.06-.94-2.06-.94-.94-2.06-.94 2.06-2.06.94z\"/><path d=\"M17.41 7.96l-1.37-1.37c-.4-.4-.92-.59-1.43-.59-.52 0-1.04.2-1.43.59L10.3 9.45l-7.72 7.72c-.78.78-.78 2.05 0 2.83L4 21.41c.39.39.9.59 1.41.59.51 0 1.02-.2 1.41-.59l7.78-7.78 2.81-2.81c.8-.78.8-2.07 0-2.86zM5.41 20L4 18.59l7.72-7.72 1.47 1.35L5.41 20z\"/>\n",
              "  </svg>\n",
              "      </button>\n",
              "      \n",
              "  <style>\n",
              "    .colab-df-container {\n",
              "      display:flex;\n",
              "      flex-wrap:wrap;\n",
              "      gap: 12px;\n",
              "    }\n",
              "\n",
              "    .colab-df-convert {\n",
              "      background-color: #E8F0FE;\n",
              "      border: none;\n",
              "      border-radius: 50%;\n",
              "      cursor: pointer;\n",
              "      display: none;\n",
              "      fill: #1967D2;\n",
              "      height: 32px;\n",
              "      padding: 0 0 0 0;\n",
              "      width: 32px;\n",
              "    }\n",
              "\n",
              "    .colab-df-convert:hover {\n",
              "      background-color: #E2EBFA;\n",
              "      box-shadow: 0px 1px 2px rgba(60, 64, 67, 0.3), 0px 1px 3px 1px rgba(60, 64, 67, 0.15);\n",
              "      fill: #174EA6;\n",
              "    }\n",
              "\n",
              "    [theme=dark] .colab-df-convert {\n",
              "      background-color: #3B4455;\n",
              "      fill: #D2E3FC;\n",
              "    }\n",
              "\n",
              "    [theme=dark] .colab-df-convert:hover {\n",
              "      background-color: #434B5C;\n",
              "      box-shadow: 0px 1px 3px 1px rgba(0, 0, 0, 0.15);\n",
              "      filter: drop-shadow(0px 1px 2px rgba(0, 0, 0, 0.3));\n",
              "      fill: #FFFFFF;\n",
              "    }\n",
              "  </style>\n",
              "\n",
              "      <script>\n",
              "        const buttonEl =\n",
              "          document.querySelector('#df-29e7db2b-1cb4-4a4b-8e20-804247ad7d77 button.colab-df-convert');\n",
              "        buttonEl.style.display =\n",
              "          google.colab.kernel.accessAllowed ? 'block' : 'none';\n",
              "\n",
              "        async function convertToInteractive(key) {\n",
              "          const element = document.querySelector('#df-29e7db2b-1cb4-4a4b-8e20-804247ad7d77');\n",
              "          const dataTable =\n",
              "            await google.colab.kernel.invokeFunction('convertToInteractive',\n",
              "                                                     [key], {});\n",
              "          if (!dataTable) return;\n",
              "\n",
              "          const docLinkHtml = 'Like what you see? Visit the ' +\n",
              "            '<a target=\"_blank\" href=https://colab.research.google.com/notebooks/data_table.ipynb>data table notebook</a>'\n",
              "            + ' to learn more about interactive tables.';\n",
              "          element.innerHTML = '';\n",
              "          dataTable['output_type'] = 'display_data';\n",
              "          await google.colab.output.renderOutput(dataTable, element);\n",
              "          const docLink = document.createElement('div');\n",
              "          docLink.innerHTML = docLinkHtml;\n",
              "          element.appendChild(docLink);\n",
              "        }\n",
              "      </script>\n",
              "    </div>\n",
              "  </div>\n",
              "  "
            ]
          },
          "metadata": {},
          "execution_count": 2
        }
      ]
    },
    {
      "cell_type": "markdown",
      "source": [
        "# Data Exploration\n",
        "\n",
        "you know what to do!"
      ],
      "metadata": {
        "id": "c-Xh0btXc3UT"
      }
    },
    {
      "cell_type": "code",
      "source": [
        "#cbmay19.gender.value_counts(normalize=True)\n",
        "cbmay19.groupby('gender').agg({'tripduration': ['count', 'mean']})"
      ],
      "metadata": {
        "id": "dqg07sA5fFXK",
        "outputId": "7e6be981-de3c-41c1-f779-df1dd445758e",
        "colab": {
          "base_uri": "https://localhost:8080/",
          "height": 206
        }
      },
      "execution_count": 8,
      "outputs": [
        {
          "output_type": "execute_result",
          "data": {
            "text/plain": [
              "       tripduration             \n",
              "              count         mean\n",
              "gender                          \n",
              "0            168171  2190.584346\n",
              "1           1293779   910.959352\n",
              "2            462613  1095.732044"
            ],
            "text/html": [
              "\n",
              "  <div id=\"df-b6e56502-7d3d-44a7-a1b4-b75211ca3429\">\n",
              "    <div class=\"colab-df-container\">\n",
              "      <div>\n",
              "<style scoped>\n",
              "    .dataframe tbody tr th:only-of-type {\n",
              "        vertical-align: middle;\n",
              "    }\n",
              "\n",
              "    .dataframe tbody tr th {\n",
              "        vertical-align: top;\n",
              "    }\n",
              "\n",
              "    .dataframe thead tr th {\n",
              "        text-align: left;\n",
              "    }\n",
              "\n",
              "    .dataframe thead tr:last-of-type th {\n",
              "        text-align: right;\n",
              "    }\n",
              "</style>\n",
              "<table border=\"1\" class=\"dataframe\">\n",
              "  <thead>\n",
              "    <tr>\n",
              "      <th></th>\n",
              "      <th colspan=\"2\" halign=\"left\">tripduration</th>\n",
              "    </tr>\n",
              "    <tr>\n",
              "      <th></th>\n",
              "      <th>count</th>\n",
              "      <th>mean</th>\n",
              "    </tr>\n",
              "    <tr>\n",
              "      <th>gender</th>\n",
              "      <th></th>\n",
              "      <th></th>\n",
              "    </tr>\n",
              "  </thead>\n",
              "  <tbody>\n",
              "    <tr>\n",
              "      <th>0</th>\n",
              "      <td>168171</td>\n",
              "      <td>2190.584346</td>\n",
              "    </tr>\n",
              "    <tr>\n",
              "      <th>1</th>\n",
              "      <td>1293779</td>\n",
              "      <td>910.959352</td>\n",
              "    </tr>\n",
              "    <tr>\n",
              "      <th>2</th>\n",
              "      <td>462613</td>\n",
              "      <td>1095.732044</td>\n",
              "    </tr>\n",
              "  </tbody>\n",
              "</table>\n",
              "</div>\n",
              "      <button class=\"colab-df-convert\" onclick=\"convertToInteractive('df-b6e56502-7d3d-44a7-a1b4-b75211ca3429')\"\n",
              "              title=\"Convert this dataframe to an interactive table.\"\n",
              "              style=\"display:none;\">\n",
              "        \n",
              "  <svg xmlns=\"http://www.w3.org/2000/svg\" height=\"24px\"viewBox=\"0 0 24 24\"\n",
              "       width=\"24px\">\n",
              "    <path d=\"M0 0h24v24H0V0z\" fill=\"none\"/>\n",
              "    <path d=\"M18.56 5.44l.94 2.06.94-2.06 2.06-.94-2.06-.94-.94-2.06-.94 2.06-2.06.94zm-11 1L8.5 8.5l.94-2.06 2.06-.94-2.06-.94L8.5 2.5l-.94 2.06-2.06.94zm10 10l.94 2.06.94-2.06 2.06-.94-2.06-.94-.94-2.06-.94 2.06-2.06.94z\"/><path d=\"M17.41 7.96l-1.37-1.37c-.4-.4-.92-.59-1.43-.59-.52 0-1.04.2-1.43.59L10.3 9.45l-7.72 7.72c-.78.78-.78 2.05 0 2.83L4 21.41c.39.39.9.59 1.41.59.51 0 1.02-.2 1.41-.59l7.78-7.78 2.81-2.81c.8-.78.8-2.07 0-2.86zM5.41 20L4 18.59l7.72-7.72 1.47 1.35L5.41 20z\"/>\n",
              "  </svg>\n",
              "      </button>\n",
              "      \n",
              "  <style>\n",
              "    .colab-df-container {\n",
              "      display:flex;\n",
              "      flex-wrap:wrap;\n",
              "      gap: 12px;\n",
              "    }\n",
              "\n",
              "    .colab-df-convert {\n",
              "      background-color: #E8F0FE;\n",
              "      border: none;\n",
              "      border-radius: 50%;\n",
              "      cursor: pointer;\n",
              "      display: none;\n",
              "      fill: #1967D2;\n",
              "      height: 32px;\n",
              "      padding: 0 0 0 0;\n",
              "      width: 32px;\n",
              "    }\n",
              "\n",
              "    .colab-df-convert:hover {\n",
              "      background-color: #E2EBFA;\n",
              "      box-shadow: 0px 1px 2px rgba(60, 64, 67, 0.3), 0px 1px 3px 1px rgba(60, 64, 67, 0.15);\n",
              "      fill: #174EA6;\n",
              "    }\n",
              "\n",
              "    [theme=dark] .colab-df-convert {\n",
              "      background-color: #3B4455;\n",
              "      fill: #D2E3FC;\n",
              "    }\n",
              "\n",
              "    [theme=dark] .colab-df-convert:hover {\n",
              "      background-color: #434B5C;\n",
              "      box-shadow: 0px 1px 3px 1px rgba(0, 0, 0, 0.15);\n",
              "      filter: drop-shadow(0px 1px 2px rgba(0, 0, 0, 0.3));\n",
              "      fill: #FFFFFF;\n",
              "    }\n",
              "  </style>\n",
              "\n",
              "      <script>\n",
              "        const buttonEl =\n",
              "          document.querySelector('#df-b6e56502-7d3d-44a7-a1b4-b75211ca3429 button.colab-df-convert');\n",
              "        buttonEl.style.display =\n",
              "          google.colab.kernel.accessAllowed ? 'block' : 'none';\n",
              "\n",
              "        async function convertToInteractive(key) {\n",
              "          const element = document.querySelector('#df-b6e56502-7d3d-44a7-a1b4-b75211ca3429');\n",
              "          const dataTable =\n",
              "            await google.colab.kernel.invokeFunction('convertToInteractive',\n",
              "                                                     [key], {});\n",
              "          if (!dataTable) return;\n",
              "\n",
              "          const docLinkHtml = 'Like what you see? Visit the ' +\n",
              "            '<a target=\"_blank\" href=https://colab.research.google.com/notebooks/data_table.ipynb>data table notebook</a>'\n",
              "            + ' to learn more about interactive tables.';\n",
              "          element.innerHTML = '';\n",
              "          dataTable['output_type'] = 'display_data';\n",
              "          await google.colab.output.renderOutput(dataTable, element);\n",
              "          const docLink = document.createElement('div');\n",
              "          docLink.innerHTML = docLinkHtml;\n",
              "          element.appendChild(docLink);\n",
              "        }\n",
              "      </script>\n",
              "    </div>\n",
              "  </div>\n",
              "  "
            ]
          },
          "metadata": {},
          "execution_count": 8
        }
      ]
    },
    {
      "cell_type": "markdown",
      "source": [
        "You hsould have noticed the column gender: its encoded as a binary - 1 is for customers that identified as male, 2 for customers that identified as female. 0 is for non-binary and not registered genders"
      ],
      "metadata": {
        "id": "CS3tzONafwg0"
      }
    },
    {
      "cell_type": "markdown",
      "source": [
        "Because your variable of interest is \"tripduration\" explore this variable in some more detail. "
      ],
      "metadata": {
        "id": "VG0ywkiUBfXP"
      }
    },
    {
      "cell_type": "markdown",
      "source": [
        "## Plot the trip duration distribution\n",
        "\n",
        "hint: when I say plot the distribution generally that means make a histogram\n"
      ],
      "metadata": {
        "id": "w72NVQw1BlQT"
      }
    },
    {
      "cell_type": "code",
      "source": [
        "# your code here\n",
        "df = cbmay19[cbmay19['gender'] != 0][['gender', 'tripduration']]"
      ],
      "metadata": {
        "id": "z49jY4_xB4x8"
      },
      "execution_count": 3,
      "outputs": []
    },
    {
      "cell_type": "code",
      "source": [
        "fig = plt.figure(figsize=(12, 8))\n",
        "sns.histplot(data=df, x='tripduration', hue='gender')\n",
        "plt.show()"
      ],
      "metadata": {
        "colab": {
          "base_uri": "https://localhost:8080/",
          "height": 454
        },
        "id": "NA5RZFEMMQRL",
        "outputId": "ce583c69-8631-408c-db2d-8422c1f28579"
      },
      "execution_count": 12,
      "outputs": [
        {
          "output_type": "display_data",
          "data": {
            "text/plain": [
              "<Figure size 864x576 with 1 Axes>"
            ],
            "image/png": "[encoded data removed]"
          },
          "metadata": {
            "needs_background": "light"
          }
        }
      ]
    },
    {
      "cell_type": "code",
      "source": [],
      "metadata": {
        "id": "Ei04-B_ZMP8v"
      },
      "execution_count": null,
      "outputs": []
    },
    {
      "cell_type": "markdown",
      "source": [
        "Figure 1:. ..."
      ],
      "metadata": {
        "id": "k67tIw-hB9ea"
      }
    },
    {
      "cell_type": "markdown",
      "source": [
        "there are some really large numbers... trips that last >1000000 minutes...  clearly this is a data curation issue. \n",
        "\n",
        "You need to clean the data by removin all data for which tripduration > 1 day (remember the duration is in minutes) and remake the plot\n",
        "\n",
        "\n",
        "You can do it by setting the condition \n",
        "\n",
        "```cbMay19[\"tripduration\"] < ...```\n",
        "\n",
        "and using this condition as an index\n",
        "\n",
        "```cbMay19_clean = cbMay19[cbMay19[\"tripduration\"]....```\n",
        "\n",
        "Remake the histogram, now the sahape of the tripduration distribution should be much clearer"
      ],
      "metadata": {
        "id": "PJ05tSklhdtJ"
      }
    },
    {
      "cell_type": "code",
      "source": [
        "# your code here\n",
        "df = df[df['tripduration'] < 1440]\n",
        "df['gender'] = np.where(df['gender']==1, 'Male', 'Female')"
      ],
      "metadata": {
        "id": "-kgSltXXCl6L"
      },
      "execution_count": 4,
      "outputs": []
    },
    {
      "cell_type": "code",
      "source": [
        "df.groupby('gender').agg({'tripduration': ['count', 'mean']})"
      ],
      "metadata": {
        "colab": {
          "base_uri": "https://localhost:8080/",
          "height": 175
        },
        "id": "JL5gUiITSo9b",
        "outputId": "7f4a1fea-cad6-40af-861a-235a33fde0cf"
      },
      "execution_count": 25,
      "outputs": [
        {
          "output_type": "execute_result",
          "data": {
            "text/plain": [
              "       tripduration            \n",
              "              count        mean\n",
              "gender                         \n",
              "Female       376590  652.176014\n",
              "Male        1121342  588.207091"
            ],
            "text/html": [
              "\n",
              "  <div id=\"df-6c67930a-bf7c-4ce8-9af0-de8a4da2df27\">\n",
              "    <div class=\"colab-df-container\">\n",
              "      <div>\n",
              "<style scoped>\n",
              "    .dataframe tbody tr th:only-of-type {\n",
              "        vertical-align: middle;\n",
              "    }\n",
              "\n",
              "    .dataframe tbody tr th {\n",
              "        vertical-align: top;\n",
              "    }\n",
              "\n",
              "    .dataframe thead tr th {\n",
              "        text-align: left;\n",
              "    }\n",
              "\n",
              "    .dataframe thead tr:last-of-type th {\n",
              "        text-align: right;\n",
              "    }\n",
              "</style>\n",
              "<table border=\"1\" class=\"dataframe\">\n",
              "  <thead>\n",
              "    <tr>\n",
              "      <th></th>\n",
              "      <th colspan=\"2\" halign=\"left\">tripduration</th>\n",
              "    </tr>\n",
              "    <tr>\n",
              "      <th></th>\n",
              "      <th>count</th>\n",
              "      <th>mean</th>\n",
              "    </tr>\n",
              "    <tr>\n",
              "      <th>gender</th>\n",
              "      <th></th>\n",
              "      <th></th>\n",
              "    </tr>\n",
              "  </thead>\n",
              "  <tbody>\n",
              "    <tr>\n",
              "      <th>Female</th>\n",
              "      <td>376590</td>\n",
              "      <td>652.176014</td>\n",
              "    </tr>\n",
              "    <tr>\n",
              "      <th>Male</th>\n",
              "      <td>1121342</td>\n",
              "      <td>588.207091</td>\n",
              "    </tr>\n",
              "  </tbody>\n",
              "</table>\n",
              "</div>\n",
              "      <button class=\"colab-df-convert\" onclick=\"convertToInteractive('df-6c67930a-bf7c-4ce8-9af0-de8a4da2df27')\"\n",
              "              title=\"Convert this dataframe to an interactive table.\"\n",
              "              style=\"display:none;\">\n",
              "        \n",
              "  <svg xmlns=\"http://www.w3.org/2000/svg\" height=\"24px\"viewBox=\"0 0 24 24\"\n",
              "       width=\"24px\">\n",
              "    <path d=\"M0 0h24v24H0V0z\" fill=\"none\"/>\n",
              "    <path d=\"M18.56 5.44l.94 2.06.94-2.06 2.06-.94-2.06-.94-.94-2.06-.94 2.06-2.06.94zm-11 1L8.5 8.5l.94-2.06 2.06-.94-2.06-.94L8.5 2.5l-.94 2.06-2.06.94zm10 10l.94 2.06.94-2.06 2.06-.94-2.06-.94-.94-2.06-.94 2.06-2.06.94z\"/><path d=\"M17.41 7.96l-1.37-1.37c-.4-.4-.92-.59-1.43-.59-.52 0-1.04.2-1.43.59L10.3 9.45l-7.72 7.72c-.78.78-.78 2.05 0 2.83L4 21.41c.39.39.9.59 1.41.59.51 0 1.02-.2 1.41-.59l7.78-7.78 2.81-2.81c.8-.78.8-2.07 0-2.86zM5.41 20L4 18.59l7.72-7.72 1.47 1.35L5.41 20z\"/>\n",
              "  </svg>\n",
              "      </button>\n",
              "      \n",
              "  <style>\n",
              "    .colab-df-container {\n",
              "      display:flex;\n",
              "      flex-wrap:wrap;\n",
              "      gap: 12px;\n",
              "    }\n",
              "\n",
              "    .colab-df-convert {\n",
              "      background-color: #E8F0FE;\n",
              "      border: none;\n",
              "      border-radius: 50%;\n",
              "      cursor: pointer;\n",
              "      display: none;\n",
              "      fill: #1967D2;\n",
              "      height: 32px;\n",
              "      padding: 0 0 0 0;\n",
              "      width: 32px;\n",
              "    }\n",
              "\n",
              "    .colab-df-convert:hover {\n",
              "      background-color: #E2EBFA;\n",
              "      box-shadow: 0px 1px 2px rgba(60, 64, 67, 0.3), 0px 1px 3px 1px rgba(60, 64, 67, 0.15);\n",
              "      fill: #174EA6;\n",
              "    }\n",
              "\n",
              "    [theme=dark] .colab-df-convert {\n",
              "      background-color: #3B4455;\n",
              "      fill: #D2E3FC;\n",
              "    }\n",
              "\n",
              "    [theme=dark] .colab-df-convert:hover {\n",
              "      background-color: #434B5C;\n",
              "      box-shadow: 0px 1px 3px 1px rgba(0, 0, 0, 0.15);\n",
              "      filter: drop-shadow(0px 1px 2px rgba(0, 0, 0, 0.3));\n",
              "      fill: #FFFFFF;\n",
              "    }\n",
              "  </style>\n",
              "\n",
              "      <script>\n",
              "        const buttonEl =\n",
              "          document.querySelector('#df-6c67930a-bf7c-4ce8-9af0-de8a4da2df27 button.colab-df-convert');\n",
              "        buttonEl.style.display =\n",
              "          google.colab.kernel.accessAllowed ? 'block' : 'none';\n",
              "\n",
              "        async function convertToInteractive(key) {\n",
              "          const element = document.querySelector('#df-6c67930a-bf7c-4ce8-9af0-de8a4da2df27');\n",
              "          const dataTable =\n",
              "            await google.colab.kernel.invokeFunction('convertToInteractive',\n",
              "                                                     [key], {});\n",
              "          if (!dataTable) return;\n",
              "\n",
              "          const docLinkHtml = 'Like what you see? Visit the ' +\n",
              "            '<a target=\"_blank\" href=https://colab.research.google.com/notebooks/data_table.ipynb>data table notebook</a>'\n",
              "            + ' to learn more about interactive tables.';\n",
              "          element.innerHTML = '';\n",
              "          dataTable['output_type'] = 'display_data';\n",
              "          await google.colab.output.renderOutput(dataTable, element);\n",
              "          const docLink = document.createElement('div');\n",
              "          docLink.innerHTML = docLinkHtml;\n",
              "          element.appendChild(docLink);\n",
              "        }\n",
              "      </script>\n",
              "    </div>\n",
              "  </div>\n",
              "  "
            ]
          },
          "metadata": {},
          "execution_count": 25
        }
      ]
    },
    {
      "cell_type": "code",
      "source": [
        "fig = plt.figure(figsize=(12, 8))\n",
        "sns.histplot(data=df, x='tripduration', stat = 'probability')\n",
        "plt.title('Distribution of Trip Duration', size=20)\n",
        "plt.show()"
      ],
      "metadata": {
        "colab": {
          "base_uri": "https://localhost:8080/",
          "height": 475
        },
        "id": "3ebePceBSNGT",
        "outputId": "f1881270-702c-4327-f577-ec16ff6b351d"
      },
      "execution_count": 29,
      "outputs": [
        {
          "output_type": "display_data",
          "data": {
            "text/plain": [
              "<Figure size 864x576 with 1 Axes>"
            ],
            "image/png": "[encoded data removed]"
          },
          "metadata": {
            "needs_background": "light"
          }
        }
      ]
    },
    {
      "cell_type": "markdown",
      "source": [
        "Figure 2: ..."
      ],
      "metadata": {
        "id": "4CWrVbvFCnmJ"
      }
    },
    {
      "cell_type": "markdown",
      "metadata": {
        "id": "MNdxEpGHc3Uy"
      },
      "source": [
        "# Data Wrangling \n",
        "\n",
        "Split the data into two dataframes by gender\n",
        "save the data corresponding to \"gender\" == 1 and the data corresponding to \"gender\" == 2 into two separate dataframes. Again you can do it by setting a condition on the column ```[\"gender\"]```"
      ]
    },
    {
      "cell_type": "code",
      "source": [
        "m = df[df['gender']=='Male']\n",
        "f = df[df['gender']=='Female']"
      ],
      "metadata": {
        "id": "PQFl0umSgu4Z"
      },
      "execution_count": 5,
      "outputs": []
    },
    {
      "cell_type": "markdown",
      "source": [
        "## plot the trip duration distributions for gender=2 and gender=1\n",
        "\n"
      ],
      "metadata": {
        "id": "UOnTTHS7hQry"
      }
    },
    {
      "cell_type": "code",
      "source": [
        "# your code here\n",
        "fig = plt.figure(figsize=(12, 8))\n",
        "sns.histplot(data=df, x='tripduration', hue='gender', stat = 'probability')\n",
        "plt.title('Distribution of Trip Duration for Male and Female', size=20)\n",
        "plt.show()"
      ],
      "metadata": {
        "id": "opjwo2PQhUM3",
        "colab": {
          "base_uri": "https://localhost:8080/",
          "height": 475
        },
        "outputId": "5781e8c5-58d2-47b5-a7e2-ba0ef046ec4c"
      },
      "execution_count": 30,
      "outputs": [
        {
          "output_type": "display_data",
          "data": {
            "text/plain": [
              "<Figure size 864x576 with 1 Axes>"
            ],
            "image/png": "[encoded data removed]"
          },
          "metadata": {
            "needs_background": "light"
          }
        }
      ]
    },
    {
      "cell_type": "markdown",
      "source": [
        "Figure 3:..."
      ],
      "metadata": {
        "id": "iKCrWQq0Dcs6"
      }
    },
    {
      "cell_type": "markdown",
      "source": [
        "Notice how the histograms are differnt hights: one of the two categories has a lot more trips than the other one. Figure out which and discuss it in the caption"
      ],
      "metadata": {
        "id": "vayb-uH1hbnc"
      }
    },
    {
      "cell_type": "markdown",
      "source": [
        "# Statistical analysis\n",
        "Run two statistical tests: the t-test and the KS-test. \n"
      ],
      "metadata": {
        "id": "4AA7Qgp02wLa"
      }
    },
    {
      "cell_type": "markdown",
      "source": [
        "# Check if the mean of the samples is the same\n",
        "\n",
        "Your Null hypothesis _H0_ and Alternative hypotehsis _HA_ are respectively:\n",
        "\n",
        "H0: µ1 = µ2 (the two sample means are equal)\n",
        "\n",
        "HA: µ1 ≠µ2 (the two sample means are not equal)\n",
        "\n",
        "First look at the data summary statistics: are the means the same number? are the means contained within each other's standard deviations --- i.e. is \n",
        "\n",
        "_mean1 > mean2 - std2 and mean1 < mean2 + std2_ \n",
        "\n",
        "or \n",
        "\n",
        "_mean2 > mean1 - std1 and mean2 < mean1 + std1_ \n",
        "\n",
        "this will set some expextation.\n",
        "\n",
        "\n",
        "\n"
      ],
      "metadata": {
        "id": "-NL1cHQD3ccc"
      }
    },
    {
      "cell_type": "code",
      "source": [
        "print(f\"The mean of the trip duration for males is {round(m.tripduration.mean())}, while that of females is {round(f.tripduration.mean())}\")"
      ],
      "metadata": {
        "id": "I1FUdJcF9rSV",
        "colab": {
          "base_uri": "https://localhost:8080/"
        },
        "outputId": "26307f9b-958f-4398-935f-8f1b73dc1a48"
      },
      "execution_count": 7,
      "outputs": [
        {
          "output_type": "stream",
          "name": "stdout",
          "text": [
            "The mean of the trip duration for males is 588, while that of females is 652\n"
          ]
        }
      ]
    },
    {
      "cell_type": "code",
      "source": [
        "m.tripduration.var(), f.tripduration.var(), m.tripduration.std(), f.tripduration.std()"
      ],
      "metadata": {
        "colab": {
          "base_uri": "https://localhost:8080/"
        },
        "id": "SXQHM0fHV4ev",
        "outputId": "93dbf721-2e26-4d8e-c098-f00ebb2a5cfa"
      },
      "execution_count": 11,
      "outputs": [
        {
          "output_type": "execute_result",
          "data": {
            "text/plain": [
              "(112244.99643310466, 116983.91941329079, 335.0298440931862, 342.0291207094665)"
            ]
          },
          "metadata": {},
          "execution_count": 11
        }
      ]
    },
    {
      "cell_type": "markdown",
      "source": [
        "The mean of the trip duration for male and female are not equal. Although, they have similar variance and standard deviation.\n"
      ],
      "metadata": {
        "id": "wC_llSGm9s-c"
      }
    },
    {
      "cell_type": "markdown",
      "source": [
        "\n",
        "To answer the question more formally  test you can use the t-test. You can use the ```ttest_ind`` function in python ```scipy.stats.ttest_ind()``` passing the first sample for a and the other for b (ind stands for independent, i.e. the assumption is that the sample are independent samples)"
      ],
      "metadata": {
        "id": "DaybiE919rsy"
      }
    },
    {
      "cell_type": "code",
      "source": [
        "# get the usage information for the function here or on the webpage of the function\n",
        "?stats.ttest_ind"
      ],
      "metadata": {
        "id": "jmgUz1XH41q9"
      },
      "execution_count": 9,
      "outputs": []
    },
    {
      "cell_type": "code",
      "source": [
        "# your code here\n",
        "tstatistic, pvalue = stats.ttest_ind(m['tripduration'], f['tripduration'])"
      ],
      "metadata": {
        "id": "L64xiLnF3vuq"
      },
      "execution_count": 12,
      "outputs": []
    },
    {
      "cell_type": "code",
      "source": [
        "pvalue, tstatistic"
      ],
      "metadata": {
        "colab": {
          "base_uri": "https://localhost:8080/"
        },
        "id": "hhhZX3uSXP5a",
        "outputId": "6f7fcf23-d39b-42cc-a7b8-cd4192a33f48"
      },
      "execution_count": 14,
      "outputs": [
        {
          "output_type": "execute_result",
          "data": {
            "text/plain": [
              "(0.0, -100.84403665697793)"
            ]
          },
          "metadata": {},
          "execution_count": 14
        }
      ]
    },
    {
      "cell_type": "markdown",
      "source": [
        "interpret the result based on your chosen confidence threshold and on the results of the ```ttest_ind`` function.\n",
        "\n"
      ],
      "metadata": {
        "id": "Zi5cvldc4JTC"
      }
    },
    {
      "cell_type": "markdown",
      "source": [
        "The chosen confidence interval for this experiment is 95%. Since the pvalue of the experiment is less than 0.05, this means that we have enough eveidence to reject the null hypothesis which say there is no difference in the mean of the trip duration of male and female. That is, the difference in mean we saw earlier is statististically signiificant.\n"
      ],
      "metadata": {
        "id": "EWHoC6yP929C"
      }
    },
    {
      "cell_type": "markdown",
      "source": [
        "# Are the sample coming from the same parent distribution\n",
        "\n",
        "The next test answers the questions: do the samples come from the same generative process (or \"parent function\"). Often we write the hypothesis for this test more simple as \"are the distributions the same\"\n",
        "\n",
        "\n",
        "\n"
      ],
      "metadata": {
        "id": "p3A3h0AX3fyc"
      }
    },
    {
      "cell_type": "markdown",
      "source": [
        "***Null Hupothesi***s: There is no difference in the mean trip duration of male and female\n",
        "\n",
        "***Alternate hypothesis***: There is a significant differenc ebetween the mean trip duration of male and female"
      ],
      "metadata": {
        "id": "4AdnfZpA-E0Y"
      }
    },
    {
      "cell_type": "markdown",
      "source": [
        "Run the test ```stats.ks_2samp```"
      ],
      "metadata": {
        "id": "Uej9-Fp4-I_M"
      }
    },
    {
      "cell_type": "code",
      "source": [
        "# your code here\n",
        "tstat, p_value = stats.ks_2samp(m['tripduration'], f['tripduration'])"
      ],
      "metadata": {
        "id": "rT58jrwfiWE0"
      },
      "execution_count": 16,
      "outputs": []
    },
    {
      "cell_type": "code",
      "source": [
        "p_value"
      ],
      "metadata": {
        "colab": {
          "base_uri": "https://localhost:8080/"
        },
        "id": "4nYqLDvoaTyg",
        "outputId": "10fcd200-8e6e-470a-9ddd-f6a619eb87be"
      },
      "execution_count": 17,
      "outputs": [
        {
          "output_type": "execute_result",
          "data": {
            "text/plain": [
              "0.0"
            ]
          },
          "metadata": {},
          "execution_count": 17
        }
      ]
    },
    {
      "cell_type": "markdown",
      "source": [
        "In fact this test is very sensitive to differences in the mean of the sample. To use the test properly one should first normalize the data. That is: subtract the mean and divide by the standard deviation. This is how you would do it (my two clean samples for gender = 1 and gender = 2 are called cbMay19_m and cbMay19_f, yours will be possibly called differently)"
      ],
      "metadata": {
        "id": "8SJCLvi_-OE1"
      }
    },
    {
      "cell_type": "code",
      "source": [
        "normed_f = (f[\"tripduration\"] - f[\"tripduration\"].mean()) / f[\"tripduration\"].std()\n",
        "normed_m = (m[\"tripduration\"] - m[\"tripduration\"].mean()) / m[\"tripduration\"].std()"
      ],
      "metadata": {
        "id": "7M1cvMNi-XNH"
      },
      "execution_count": 18,
      "outputs": []
    },
    {
      "cell_type": "markdown",
      "source": [
        "rerun the test after normalizing, did the conclusion change?"
      ],
      "metadata": {
        "id": "AYgiRMrA-7HD"
      }
    },
    {
      "cell_type": "code",
      "source": [
        "# your code here\n",
        "_, pvalue = stats.ttest_ind(normed_m, normed_f)"
      ],
      "metadata": {
        "id": "9jXluvjE-6mD"
      },
      "execution_count": 20,
      "outputs": []
    },
    {
      "cell_type": "code",
      "source": [
        "pvalue"
      ],
      "metadata": {
        "colab": {
          "base_uri": "https://localhost:8080/"
        },
        "id": "YBAFyBxKbXXw",
        "outputId": "f1984250-b7ef-496e-fd13-addc20a7dca9"
      },
      "execution_count": 21,
      "outputs": [
        {
          "output_type": "execute_result",
          "data": {
            "text/plain": [
              "0.9999999999999769"
            ]
          },
          "metadata": {},
          "execution_count": 21
        }
      ]
    },
    {
      "cell_type": "markdown",
      "source": [
        "# Extra Credit : do the same for week days only and weekends only"
      ],
      "metadata": {
        "id": "1mi3yn645F7D"
      }
    },
    {
      "cell_type": "markdown",
      "source": [
        "Pandas uses an excellent package to process dates! the datetime package\n",
        "\n",
        "The current date columns are starttime and stoptime. You can convert starttime, which is currently a column containing simple strings, to a python datetime variable as follows\n",
        "\n"
      ],
      "metadata": {
        "id": "ZpQWeL1N5MUW"
      }
    },
    {
      "cell_type": "code",
      "source": [
        "cbMay19[\"starttime\"]"
      ],
      "metadata": {
        "id": "9rOLXJgg5Z9B"
      },
      "execution_count": null,
      "outputs": []
    },
    {
      "cell_type": "code",
      "source": [
        "cbMay19[\"tripdate\"] = pd.to_datetime(cbMay19.starttime)\n",
        "cbMay19[\"tripdate\"]"
      ],
      "metadata": {
        "id": "H77q8aL75qSk"
      },
      "execution_count": null,
      "outputs": []
    },
    {
      "cell_type": "markdown",
      "source": [
        "Once you have a datetime column for the start of the trip you can separate week days and weekends using the condition \n",
        "\n",
        "```cbMay19[\"tripdate\"].dt.weekday < 5```\n",
        "\n",
        "for weekdays and \n",
        "\n",
        "```cbMay19[\"tripdate\"].dt.weekday >= 5```\n",
        "\n",
        "for weekends. \n",
        "\n",
        "With the dataset separate in weekend and weekdays you can ask the same kind of questions: is trip duration characteristically different on weekends than on week days, or, are the gender-based differences you found for the overall sample the same for weekdays and weekends?\n"
      ],
      "metadata": {
        "id": "ZOw-t8z450Gn"
      }
    }
  ]
}