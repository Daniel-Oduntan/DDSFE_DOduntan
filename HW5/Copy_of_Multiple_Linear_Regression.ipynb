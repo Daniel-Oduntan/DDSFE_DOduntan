{
 "cells": [
  {
   "cell_type": "markdown",
   "metadata": {
    "colab_type": "text",
    "id": "view-in-github"
   },
   "source": [
    "<a href=\"https://colab.research.google.com/github/Daniel-Oduntan/FDSfE_DOduntan/blob/main/HW5/Copy_of_Multiple_Linear_Regression.ipynb\" target=\"_parent\"><img src=\"https://colab.research.google.com/assets/colab-badge.svg\" alt=\"Open In Colab\"/></a>"
   ]
  },
  {
   "cell_type": "markdown",
   "metadata": {
    "id": "kBKIrBnIlHg8"
   },
   "source": [
    "# **Multiple Linear Regression**\n",
    "\n",
    "---\n",
    "\n",
    "###Data\n",
    "\n",
    "The data used in this assignment contains a cleaned and curated version of the market real estate valuations collected from Sindian Dist., New Taipei City, Taiwan, by Prof. I-Cheng Yeh, Department of Civil Engineering, Tamkang University, Taiwan.\n",
    "\n",
    "The features in the data are the following:\n",
    "\n",
    "* ```transaction_date```: the transaction date (for example, 2013.250=2013 March, 2013.500=2013 June, etc.)\n",
    "* ```house_age```: the house age (unit: year)\n",
    "* ```distance_nearest_MRT_station```: the distance to the nearest MRT station (unit: meter)\n",
    "* ```convenience_stores```: the number of convenience stores in the living circle on foot (integer)\n",
    "\n",
    "The target is:\n",
    "* ```house_price_unit_area```house price of unit area (10000 New Taiwan Dollar/Ping, where Ping is a local unit, 1 Ping = 3.3 meter squared)\n",
    "\n",
    "---\n",
    "\n",
    "## HW instructions:\n",
    "\n",
    "Similar to what was done in class, your task is to do the following:\n",
    "1.   create a simple regression model that utilizes only one feature: the log10 of ```distance_nearest_MRT_station``` to predict the house price/unit area, and find the model's metrics ($R^2$ and Adjusted-$R^2$), as well as the the coeffient (slope) of the line.\n",
    "\n",
    "2.   create a multiple regression model that utilizes all features in the dataset to predict the house price/unit area, and find the model's metrics ($R^2$ and Adjusted-$R^2$), as well as the the coeffient for each variable.\n",
    "\n",
    "--"
   ]
  },
  {
   "cell_type": "code",
   "execution_count": 43,
   "metadata": {
    "id": "ATylBaqD5ljg"
   },
   "outputs": [],
   "source": [
    "# -- import libraries here\n",
    "import pandas as pd\n",
    "import numpy as np\n",
    "from sklearn.linear_model import LinearRegression\n",
    "import seaborn as sns\n",
    "from sklearn.preprocessing import StandardScaler\n",
    "from matplotlib import pyplot as plt\n"
   ]
  },
  {
   "cell_type": "markdown",
   "metadata": {
    "id": "S4YEe0nUgWG1"
   },
   "source": [
    "Read the data file from the class repo which can be found in the folder \"data\" and is called \"Real_estate.csv\""
   ]
  },
  {
   "cell_type": "code",
   "execution_count": null,
   "metadata": {
    "id": "7vu7tgc3CrxL"
   },
   "outputs": [],
   "source": [
    "# -- your code here \n",
    "Realestate=pd.read_csv(\"https://raw.githubusercontent.com/fedhere/FDSfE_FBianco/main/data/Real_estate.csv\")"
   ]
  },
  {
   "cell_type": "code",
   "execution_count": null,
   "metadata": {
    "colab": {
     "base_uri": "https://localhost:8080/",
     "height": 424
    },
    "id": "rAeYO4oDAwWD",
    "outputId": "670f7234-57fb-4a44-916e-5252de6d1241"
   },
   "outputs": [
    {
     "data": {
      "text/html": [
       "\n",
       "  <div id=\"df-67933d27-a9eb-4b26-b980-19d39b70926d\">\n",
       "    <div class=\"colab-df-container\">\n",
       "      <div>\n",
       "<style scoped>\n",
       "    .dataframe tbody tr th:only-of-type {\n",
       "        vertical-align: middle;\n",
       "    }\n",
       "\n",
       "    .dataframe tbody tr th {\n",
       "        vertical-align: top;\n",
       "    }\n",
       "\n",
       "    .dataframe thead th {\n",
       "        text-align: right;\n",
       "    }\n",
       "</style>\n",
       "<table border=\"1\" class=\"dataframe\">\n",
       "  <thead>\n",
       "    <tr style=\"text-align: right;\">\n",
       "      <th></th>\n",
       "      <th>transaction_date</th>\n",
       "      <th>house_age</th>\n",
       "      <th>distance_nearest_MRT_station</th>\n",
       "      <th>convenience_stores</th>\n",
       "      <th>house_price_unit_area</th>\n",
       "    </tr>\n",
       "  </thead>\n",
       "  <tbody>\n",
       "    <tr>\n",
       "      <th>0</th>\n",
       "      <td>2012.917</td>\n",
       "      <td>32.0</td>\n",
       "      <td>84.87882</td>\n",
       "      <td>10</td>\n",
       "      <td>37.9</td>\n",
       "    </tr>\n",
       "    <tr>\n",
       "      <th>1</th>\n",
       "      <td>2012.917</td>\n",
       "      <td>19.5</td>\n",
       "      <td>306.59470</td>\n",
       "      <td>9</td>\n",
       "      <td>42.2</td>\n",
       "    </tr>\n",
       "    <tr>\n",
       "      <th>2</th>\n",
       "      <td>2013.583</td>\n",
       "      <td>13.3</td>\n",
       "      <td>561.98450</td>\n",
       "      <td>5</td>\n",
       "      <td>47.3</td>\n",
       "    </tr>\n",
       "    <tr>\n",
       "      <th>3</th>\n",
       "      <td>2013.500</td>\n",
       "      <td>13.3</td>\n",
       "      <td>561.98450</td>\n",
       "      <td>5</td>\n",
       "      <td>54.8</td>\n",
       "    </tr>\n",
       "    <tr>\n",
       "      <th>4</th>\n",
       "      <td>2012.833</td>\n",
       "      <td>5.0</td>\n",
       "      <td>390.56840</td>\n",
       "      <td>5</td>\n",
       "      <td>43.1</td>\n",
       "    </tr>\n",
       "    <tr>\n",
       "      <th>...</th>\n",
       "      <td>...</td>\n",
       "      <td>...</td>\n",
       "      <td>...</td>\n",
       "      <td>...</td>\n",
       "      <td>...</td>\n",
       "    </tr>\n",
       "    <tr>\n",
       "      <th>409</th>\n",
       "      <td>2013.000</td>\n",
       "      <td>13.7</td>\n",
       "      <td>4082.01500</td>\n",
       "      <td>0</td>\n",
       "      <td>15.4</td>\n",
       "    </tr>\n",
       "    <tr>\n",
       "      <th>410</th>\n",
       "      <td>2012.667</td>\n",
       "      <td>5.6</td>\n",
       "      <td>90.45606</td>\n",
       "      <td>9</td>\n",
       "      <td>50.0</td>\n",
       "    </tr>\n",
       "    <tr>\n",
       "      <th>411</th>\n",
       "      <td>2013.250</td>\n",
       "      <td>18.8</td>\n",
       "      <td>390.96960</td>\n",
       "      <td>7</td>\n",
       "      <td>40.6</td>\n",
       "    </tr>\n",
       "    <tr>\n",
       "      <th>412</th>\n",
       "      <td>2013.000</td>\n",
       "      <td>8.1</td>\n",
       "      <td>104.81010</td>\n",
       "      <td>5</td>\n",
       "      <td>52.5</td>\n",
       "    </tr>\n",
       "    <tr>\n",
       "      <th>413</th>\n",
       "      <td>2013.500</td>\n",
       "      <td>6.5</td>\n",
       "      <td>90.45606</td>\n",
       "      <td>9</td>\n",
       "      <td>63.9</td>\n",
       "    </tr>\n",
       "  </tbody>\n",
       "</table>\n",
       "<p>414 rows × 5 columns</p>\n",
       "</div>\n",
       "      <button class=\"colab-df-convert\" onclick=\"convertToInteractive('df-67933d27-a9eb-4b26-b980-19d39b70926d')\"\n",
       "              title=\"Convert this dataframe to an interactive table.\"\n",
       "              style=\"display:none;\">\n",
       "        \n",
       "  <svg xmlns=\"http://www.w3.org/2000/svg\" height=\"24px\"viewBox=\"0 0 24 24\"\n",
       "       width=\"24px\">\n",
       "    <path d=\"M0 0h24v24H0V0z\" fill=\"none\"/>\n",
       "    <path d=\"M18.56 5.44l.94 2.06.94-2.06 2.06-.94-2.06-.94-.94-2.06-.94 2.06-2.06.94zm-11 1L8.5 8.5l.94-2.06 2.06-.94-2.06-.94L8.5 2.5l-.94 2.06-2.06.94zm10 10l.94 2.06.94-2.06 2.06-.94-2.06-.94-.94-2.06-.94 2.06-2.06.94z\"/><path d=\"M17.41 7.96l-1.37-1.37c-.4-.4-.92-.59-1.43-.59-.52 0-1.04.2-1.43.59L10.3 9.45l-7.72 7.72c-.78.78-.78 2.05 0 2.83L4 21.41c.39.39.9.59 1.41.59.51 0 1.02-.2 1.41-.59l7.78-7.78 2.81-2.81c.8-.78.8-2.07 0-2.86zM5.41 20L4 18.59l7.72-7.72 1.47 1.35L5.41 20z\"/>\n",
       "  </svg>\n",
       "      </button>\n",
       "      \n",
       "  <style>\n",
       "    .colab-df-container {\n",
       "      display:flex;\n",
       "      flex-wrap:wrap;\n",
       "      gap: 12px;\n",
       "    }\n",
       "\n",
       "    .colab-df-convert {\n",
       "      background-color: #E8F0FE;\n",
       "      border: none;\n",
       "      border-radius: 50%;\n",
       "      cursor: pointer;\n",
       "      display: none;\n",
       "      fill: #1967D2;\n",
       "      height: 32px;\n",
       "      padding: 0 0 0 0;\n",
       "      width: 32px;\n",
       "    }\n",
       "\n",
       "    .colab-df-convert:hover {\n",
       "      background-color: #E2EBFA;\n",
       "      box-shadow: 0px 1px 2px rgba(60, 64, 67, 0.3), 0px 1px 3px 1px rgba(60, 64, 67, 0.15);\n",
       "      fill: #174EA6;\n",
       "    }\n",
       "\n",
       "    [theme=dark] .colab-df-convert {\n",
       "      background-color: #3B4455;\n",
       "      fill: #D2E3FC;\n",
       "    }\n",
       "\n",
       "    [theme=dark] .colab-df-convert:hover {\n",
       "      background-color: #434B5C;\n",
       "      box-shadow: 0px 1px 3px 1px rgba(0, 0, 0, 0.15);\n",
       "      filter: drop-shadow(0px 1px 2px rgba(0, 0, 0, 0.3));\n",
       "      fill: #FFFFFF;\n",
       "    }\n",
       "  </style>\n",
       "\n",
       "      <script>\n",
       "        const buttonEl =\n",
       "          document.querySelector('#df-67933d27-a9eb-4b26-b980-19d39b70926d button.colab-df-convert');\n",
       "        buttonEl.style.display =\n",
       "          google.colab.kernel.accessAllowed ? 'block' : 'none';\n",
       "\n",
       "        async function convertToInteractive(key) {\n",
       "          const element = document.querySelector('#df-67933d27-a9eb-4b26-b980-19d39b70926d');\n",
       "          const dataTable =\n",
       "            await google.colab.kernel.invokeFunction('convertToInteractive',\n",
       "                                                     [key], {});\n",
       "          if (!dataTable) return;\n",
       "\n",
       "          const docLinkHtml = 'Like what you see? Visit the ' +\n",
       "            '<a target=\"_blank\" href=https://colab.research.google.com/notebooks/data_table.ipynb>data table notebook</a>'\n",
       "            + ' to learn more about interactive tables.';\n",
       "          element.innerHTML = '';\n",
       "          dataTable['output_type'] = 'display_data';\n",
       "          await google.colab.output.renderOutput(dataTable, element);\n",
       "          const docLink = document.createElement('div');\n",
       "          docLink.innerHTML = docLinkHtml;\n",
       "          element.appendChild(docLink);\n",
       "        }\n",
       "      </script>\n",
       "    </div>\n",
       "  </div>\n",
       "  "
      ],
      "text/plain": [
       "     transaction_date  house_age  distance_nearest_MRT_station  \\\n",
       "0            2012.917       32.0                      84.87882   \n",
       "1            2012.917       19.5                     306.59470   \n",
       "2            2013.583       13.3                     561.98450   \n",
       "3            2013.500       13.3                     561.98450   \n",
       "4            2012.833        5.0                     390.56840   \n",
       "..                ...        ...                           ...   \n",
       "409          2013.000       13.7                    4082.01500   \n",
       "410          2012.667        5.6                      90.45606   \n",
       "411          2013.250       18.8                     390.96960   \n",
       "412          2013.000        8.1                     104.81010   \n",
       "413          2013.500        6.5                      90.45606   \n",
       "\n",
       "     convenience_stores  house_price_unit_area  \n",
       "0                    10                   37.9  \n",
       "1                     9                   42.2  \n",
       "2                     5                   47.3  \n",
       "3                     5                   54.8  \n",
       "4                     5                   43.1  \n",
       "..                  ...                    ...  \n",
       "409                   0                   15.4  \n",
       "410                   9                   50.0  \n",
       "411                   7                   40.6  \n",
       "412                   5                   52.5  \n",
       "413                   9                   63.9  \n",
       "\n",
       "[414 rows x 5 columns]"
      ]
     },
     "execution_count": 9,
     "metadata": {},
     "output_type": "execute_result"
    }
   ],
   "source": [
    "Realestate"
   ]
  },
  {
   "cell_type": "markdown",
   "metadata": {
    "id": "tP10cnl7UBJg"
   },
   "source": [
    "## Task 1: simple linear regression\n",
    "\n",
    "create a simple regression model that utilizes only one feature: the log10 of ```distance_nearest_MRT_station``` to predict the house price/unit area, and find the model's metrics ($R^2$ and Adjusted-$R^2$), as well as the the coeffient (slope) of the line.\n",
    "\n",
    "---\n"
   ]
  },
  {
   "cell_type": "markdown",
   "metadata": {
    "id": "YGx9scRQU8C0"
   },
   "source": [
    "Calculate the log10 of the ```distance_nearest_MRT_station``` column and add it as a new column to the data frame"
   ]
  },
  {
   "cell_type": "code",
   "execution_count": 12,
   "metadata": {
    "colab": {
     "base_uri": "https://localhost:8080/",
     "height": 297
    },
    "id": "ks8enT5OBxbz",
    "outputId": "0df28d4f-283b-4bea-e7c7-cd2232e19abe"
   },
   "outputs": [
    {
     "data": {
      "text/plain": [
       "<matplotlib.axes._subplots.AxesSubplot at 0x7f79dd845510>"
      ]
     },
     "execution_count": 12,
     "metadata": {},
     "output_type": "execute_result"
    },
    {
     "data": {
      "image/png": "[encoded data removed]",
      "text/plain": [
       "<Figure size 432x288 with 1 Axes>"
      ]
     },
     "metadata": {
      "needs_background": "light"
     },
     "output_type": "display_data"
    }
   ],
   "source": [
    "sns.histplot(Realestate['distance_nearest_MRT_station'])"
   ]
  },
  {
   "cell_type": "code",
   "execution_count": 23,
   "metadata": {
    "id": "p4cNG_YBCr0M"
   },
   "outputs": [],
   "source": [
    "# -- your code here \n",
    "dist_transformed = np.array(np.log(Realestate['distance_nearest_MRT_station'])).reshape(-1, 1)\n"
   ]
  },
  {
   "cell_type": "code",
   "execution_count": 14,
   "metadata": {
    "colab": {
     "base_uri": "https://localhost:8080/",
     "height": 297
    },
    "id": "Plz_C_VmCKyb",
    "outputId": "1b06f855-8d63-4eb1-d157-e960e145a872"
   },
   "outputs": [
    {
     "data": {
      "text/plain": [
       "<matplotlib.axes._subplots.AxesSubplot at 0x7f79dd6eb610>"
      ]
     },
     "execution_count": 14,
     "metadata": {},
     "output_type": "execute_result"
    },
    {
     "data": {
      "image/png": "[encoded data removed]",
      "text/plain": [
       "<Figure size 432x288 with 1 Axes>"
      ]
     },
     "metadata": {
      "needs_background": "light"
     },
     "output_type": "display_data"
    }
   ],
   "source": [
    "sns.histplot(dist_transformed)"
   ]
  },
  {
   "cell_type": "markdown",
   "metadata": {
    "id": "RK2zIVwAVSlx"
   },
   "source": [
    "Standardize your feature and target data (setting their mean to 0 and standard deviation to 1)"
   ]
  },
  {
   "cell_type": "code",
   "execution_count": 25,
   "metadata": {
    "id": "rryGybFQFDja"
   },
   "outputs": [],
   "source": [
    "# -- your code here\n",
    "scale = StandardScaler()\n",
    "x = scale.fit_transform(dist_transformed)\n",
    "y = scale.fit_transform(Realestate[['house_price_unit_area']])\n"
   ]
  },
  {
   "cell_type": "markdown",
   "metadata": {
    "id": "RYDBgtWMVlSg"
   },
   "source": [
    "Using the code library of your choice, fit a linear regression model to the data"
   ]
  },
  {
   "cell_type": "code",
   "execution_count": 26,
   "metadata": {
    "colab": {
     "base_uri": "https://localhost:8080/"
    },
    "id": "p_x1r6JYVksb",
    "outputId": "a820479a-ab3b-45b8-e291-ea8adc001f0d"
   },
   "outputs": [
    {
     "data": {
      "text/plain": [
       "LinearRegression()"
      ]
     },
     "execution_count": 26,
     "metadata": {},
     "output_type": "execute_result"
    }
   ],
   "source": [
    "# -- your code here\n",
    "model = LinearRegression()\n",
    "model.fit(x, y)"
   ]
  },
  {
   "cell_type": "markdown",
   "metadata": {
    "id": "k_hktZmTVs6m"
   },
   "source": [
    "Print both the $R^2$ and Adjusted-$R^2$ of this model \n",
    "\n",
    "(+1 bonus point for using the `.format()` method in `print` to show the two values and round them to 3 decimal places)"
   ]
  },
  {
   "cell_type": "code",
   "execution_count": 29,
   "metadata": {
    "colab": {
     "base_uri": "https://localhost:8080/"
    },
    "id": "c5GHaDbLE7Ql",
    "outputId": "dee2aed1-94a3-4d9c-a0fb-0e1409f8cb86"
   },
   "outputs": [
    {
     "name": "stdout",
     "output_type": "stream",
     "text": [
      "R2 = 0.539, Adjusted R2 = 0.538\n"
     ]
    }
   ],
   "source": [
    "# -- your code here\n",
    "r = model.score(x, y)\n",
    "adjusted_r = 1 - (1-r)*(len(y)-1)/(len(y)-x.shape[1]-1)\n",
    "\n",
    "print(f\"R2 = {round(r, 3)}, Adjusted R2 = {round(adjusted_r, 3)}\")"
   ]
  },
  {
   "cell_type": "markdown",
   "metadata": {
    "id": "6spcmbZ-XQhs"
   },
   "source": [
    "Print the coefficient (slope) of the line"
   ]
  },
  {
   "cell_type": "code",
   "execution_count": 33,
   "metadata": {
    "colab": {
     "base_uri": "https://localhost:8080/"
    },
    "id": "fhPykUNVGKnY",
    "outputId": "97102701-14a1-44fa-b0ea-d08d9bc05a64"
   },
   "outputs": [
    {
     "name": "stdout",
     "output_type": "stream",
     "text": [
      "coefficient = -0.734\n"
     ]
    }
   ],
   "source": [
    "# -- your code here\n",
    "print(f\"coefficient = {round(model.coef_[0][0], 3)}\")"
   ]
  },
  {
   "cell_type": "markdown",
   "metadata": {
    "id": "EYs3arrqePbn"
   },
   "source": [
    "From looking at the coefficient, what can you say about the relationship between the feature (the distance to the nearest MRT station) and the target (the house price/unit area)?"
   ]
  },
  {
   "cell_type": "markdown",
   "metadata": {
    "id": "gBsZRNV3ePV5"
   },
   "source": [
    "The two features are negatively correlated"
   ]
  },
  {
   "cell_type": "markdown",
   "metadata": {
    "id": "MHqiI52lXvSr"
   },
   "source": [
    "Plot the actual vs. model predicted values for the house price/unit area for all log10(distance to MRT station) values in the data"
   ]
  },
  {
   "cell_type": "code",
   "execution_count": null,
   "metadata": {
    "colab": {
     "base_uri": "https://localhost:8080/",
     "height": 280
    },
    "id": "9Gblf2UCVdo4",
    "outputId": "51906dbd-852a-40fe-8019-105744e4d3bb"
   },
   "outputs": [
    {
     "data": {
      "image/png": "[encoded data removed]",
      "text/plain": [
       "<Figure size 432x288 with 1 Axes>"
      ]
     },
     "metadata": {
      "needs_background": "light"
     },
     "output_type": "display_data"
    }
   ],
   "source": [
    "# -- your code here\n",
    "sns.scatterplot(y.reshape(1, -1)[0], model.predict(x).reshape(1, -1)[0], alpha=0.6)\n",
    "plt.xlabel('house_price_unit_area')\n",
    "plt.ylabel('prediction')\n",
    "plt.show()"
   ]
  },
  {
   "cell_type": "markdown",
   "metadata": {},
   "source": [
    "# <mark>WFF</mark> Missing figure caption"
   ]
  },
  {
   "cell_type": "markdown",
   "metadata": {
    "id": "iFAO4QfCbgGN"
   },
   "source": [
    "## Task 2: multiple linear regression (all variables)\n",
    "\n",
    "create a multiple regression model that utilizes all features to predict the house price/unit area, and find the model's metrics ($R^2$ and Adjusted-$R^2$), as well as the the coeffient for each variable.\n",
    "\n",
    "---"
   ]
  },
  {
   "cell_type": "markdown",
   "metadata": {
    "id": "PT2-ClOFcXjQ"
   },
   "source": [
    "Make sure all your features and target columns are standardized, and that you are using all the features in the data frame (also make sure to use ```log10(distance_nearest_MRT_station)``` rather than ```distance_nearest_MRT_station``` as a feature)"
   ]
  },
  {
   "cell_type": "code",
   "execution_count": 47,
   "metadata": {
    "id": "qc0keSNZZ4Zu"
   },
   "outputs": [],
   "source": [
    "# -- your code here\n",
    "Realestate['distance_nearest_MRT_station'] = np.log(Realestate['distance_nearest_MRT_station'])"
   ]
  },
  {
   "cell_type": "markdown",
   "metadata": {
    "id": "sSYvBMkXcxjx"
   },
   "source": [
    "Using the code library of your choice, fit a multiple linear regression model to the data"
   ]
  },
  {
   "cell_type": "code",
   "execution_count": 48,
   "metadata": {
    "id": "_EPrB-FdZ4cE"
   },
   "outputs": [],
   "source": [
    "# -- your code here\n",
    "Realestate[['transaction_date', 'house_age', 'distance_nearest_MRT_station', 'convenience_stores']] = scale.fit_transform(Realestate[['transaction_date', 'house_age', 'distance_nearest_MRT_station', 'convenience_stores']])"
   ]
  },
  {
   "cell_type": "markdown",
   "metadata": {
    "id": "tlAbv9Gpc5Vz"
   },
   "source": [
    "Print the coefficients of each of the features"
   ]
  },
  {
   "cell_type": "code",
   "execution_count": 56,
   "metadata": {
    "id": "vUFge55wJHyA"
   },
   "outputs": [],
   "source": [
    "x = Realestate[['transaction_date', 'house_age', 'distance_nearest_MRT_station', 'convenience_stores']]\n",
    "model.fit(x, y)"
   ]
  },
  {
   "cell_type": "code",
   "execution_count": 51,
   "metadata": {
    "id": "AKK4LA3vJO3T"
   },
   "outputs": [],
   "source": [
    "coef = model.coef_[0]"
   ]
  },
  {
   "cell_type": "code",
   "execution_count": 55,
   "metadata": {
    "colab": {
     "base_uri": "https://localhost:8080/"
    },
    "id": "z3o8Qf0NJVli",
    "outputId": "0665a444-be9c-4e3c-99a0-bab97f8fb6cb"
   },
   "outputs": [
    {
     "name": "stdout",
     "output_type": "stream",
     "text": [
      "coefficient for log_dist_MRT = -0.643\n",
      "coefficient for convenience_stores = 0.137\n",
      "coefficient for transaction_date = 0.152\n",
      "coefficient for house_age = -0.177\n"
     ]
    }
   ],
   "source": [
    "# -- your code here\n",
    "print(f\"coefficient for log_dist_MRT = {round(coef[2], 3)}\\ncoefficient for convenience_stores = {round(coef[3], 3)}\\ncoefficient for transaction_date = {round(coef[0], 3)}\\ncoefficient for house_age = {round(coef[1], 3)}\")"
   ]
  },
  {
   "cell_type": "markdown",
   "metadata": {
    "id": "d5doqy3rdHLW"
   },
   "source": [
    "What can you claim about the relative correlation and influence of each feature on the prediction of the target variable?"
   ]
  },
  {
   "cell_type": "markdown",
   "metadata": {
    "id": "X63QO1tAdIgF"
   },
   "source": [
    "The coefficient for log_dist_MRT has a strong negative correlation, the coefficient for convenience_stores has a weak positive correlation, the coefficient for transaction_date has a weak positive correlation, the coefficient for house_age has a weak positive correlation, the coefficient for house_age has a weak negative correlation"
   ]
  },
  {
   "cell_type": "markdown",
   "metadata": {
    "id": "X8K0ZhrMdLcG"
   },
   "source": [
    "Print the $R^2$ of this model"
   ]
  },
  {
   "cell_type": "code",
   "execution_count": 57,
   "metadata": {
    "colab": {
     "base_uri": "https://localhost:8080/"
    },
    "id": "9Qc4BC8BVdy9",
    "outputId": "b4a0eded-3cd9-4788-b67c-1699795d3fb8"
   },
   "outputs": [
    {
     "name": "stdout",
     "output_type": "stream",
     "text": [
      "r2 = 0.601\n"
     ]
    }
   ],
   "source": [
    "# -- your code here\n",
    "print(f\"r2 = {round(model.score(x, y), 3)}\")"
   ]
  },
  {
   "cell_type": "markdown",
   "metadata": {
    "id": "7P5iogz_dSfD"
   },
   "source": [
    "Looking only at the $R^2$ scores for this model relative to the previous model in Task 1, would you say the model has improved with the addition of the remaining features or not? and Why?"
   ]
  },
  {
   "cell_type": "markdown",
   "metadata": {
    "id": "sMUCOhQOdXaE"
   },
   "source": []
  },
  {
   "cell_type": "markdown",
   "metadata": {
    "id": "zMWT8U7mdY0p"
   },
   "source": [
    "Print the Adjusted-$R^2$ of this model"
   ]
  },
  {
   "cell_type": "code",
   "execution_count": 58,
   "metadata": {
    "colab": {
     "base_uri": "https://localhost:8080/"
    },
    "id": "tvV_wPfKVd1f",
    "outputId": "a51cf59b-bab1-468f-89a1-903b30c50ae6"
   },
   "outputs": [
    {
     "name": "stdout",
     "output_type": "stream",
     "text": [
      "adjusted-r2 = 0.597\n"
     ]
    }
   ],
   "source": [
    "# -- your code here\n",
    "adjusted = adjusted_r = 1 - (1-model.score(x, y))*(len(y)-1)/(len(y)-x.shape[1]-1)\n",
    "print(f\"adjusted-r2 = {round(adjusted, 3)}\")"
   ]
  },
  {
   "cell_type": "markdown",
   "metadata": {
    "id": "xCpFXai6dkpL"
   },
   "source": [
    "Looking at both $R^2$ and Ajusted-$R^2$ scores for this model relative to the previous model in Task 1, would you say the model has improved with the addition of the remaining features or not? and Why?"
   ]
  },
  {
   "cell_type": "markdown",
   "metadata": {
    "id": "4BO8fq6odqrA"
   },
   "source": [
    "Yes it can be concluded that the model has improved with the addition of the remaining features because of its increase in value"
   ]
  },
  {
   "cell_type": "markdown",
   "metadata": {
    "id": "mgIAi9C9duLy"
   },
   "source": [
    "Plot the actual vs. model predicted values for the house price/unit area for all objects in the data. Is there any visible improvement in the quality of the prediction that you can claim from comparing this plot with the one from Task 2? "
   ]
  },
  {
   "cell_type": "code",
   "execution_count": null,
   "metadata": {
    "colab": {
     "base_uri": "https://localhost:8080/",
     "height": 280
    },
    "id": "JOwT7fmfVd3x",
    "outputId": "aa3d2685-8d41-449e-cde1-b3b1f321caf6"
   },
   "outputs": [
    {
     "data": {
      "image/png": "[encoded data removed]",
      "text/plain": [
       "<Figure size 432x288 with 1 Axes>"
      ]
     },
     "metadata": {
      "needs_background": "light"
     },
     "output_type": "display_data"
    }
   ],
   "source": [
    "# -- your code here\n",
    "sns.scatterplot(y.reshape(1, -1)[0], model.predict(x).reshape(1, -1)[0], alpha=0.6)\n",
    "plt.xlabel('house_price_unit_area')\n",
    "plt.ylabel('prediction')\n",
    "plt.show()"
   ]
  },
  {
   "cell_type": "code",
   "execution_count": null,
   "metadata": {
    "id": "4qlxYmpALNGC"
   },
   "outputs": [],
   "source": []
  }
 ],
 "metadata": {
  "colab": {
   "collapsed_sections": [],
   "include_colab_link": true,
   "provenance": []
  },
  "kernelspec": {
   "display_name": "Python 3 (ipykernel)",
   "language": "python",
   "name": "python3"
  },
  "language_info": {
   "codemirror_mode": {
    "name": "ipython",
    "version": 3
   },
   "file_extension": ".py",
   "mimetype": "text/x-python",
   "name": "python",
   "nbconvert_exporter": "python",
   "pygments_lexer": "ipython3",
   "version": "3.10.6"
  }
 },
 "nbformat": 4,
 "nbformat_minor": 4
}
